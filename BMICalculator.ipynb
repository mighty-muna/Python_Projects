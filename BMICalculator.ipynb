{
 "cells": [
  {
   "cell_type": "code",
   "execution_count": 1,
   "id": "56a9c910",
   "metadata": {},
   "outputs": [],
   "source": [
    "# Project on how to build a BMI Calculator"
   ]
  },
  {
   "cell_type": "code",
   "execution_count": 2,
   "id": "d9df9739",
   "metadata": {},
   "outputs": [],
   "source": [
    "#BMI = (weight in Kg)/ (Height in Metres * Height in metres)"
   ]
  },
  {
   "cell_type": "code",
   "execution_count": null,
   "id": "e9a8756f",
   "metadata": {},
   "outputs": [
    {
     "name": "stdout",
     "output_type": "stream",
     "text": [
      "Enter your weight in Kg: 85\n"
     ]
    }
   ],
   "source": [
    "weight = float(input(\"Enter your weight in Kg: \"))\n",
    "\n",
    "height = float(input(\"Enter your height in metres: \"))\n",
    "\n",
    "BMI = (weight)/(height*height)\n",
    "\n",
    "print(BMI)\n",
    "\n",
    "if BMI>0:\n",
    "    if(BMI<=18.5):\n",
    "        print(\"You are underweight, health risk is minimal\")\n",
    "    elif(BMI<=24.9):\n",
    "        print(\"You are underweight, health risk is minimal\")\n",
    "    elif(BMI<=29.9):\n",
    "        print(\"You are overweight, health risk is above minimal\")\n",
    "    elif(BMI<=34.9):\n",
    "        print(\"You are obese, health risk is high\")\n",
    "    elif(BMI<=39.9):\n",
    "        print(\"You are severely obese, health risk is very high\")\n",
    "    else:\n",
    "        print(\"You are morbidly obese, health risk is extremely high\")\n",
    "else:\n",
    "    print(\"Enter valid input\")"
   ]
  },
  {
   "cell_type": "code",
   "execution_count": null,
   "id": "9e47bb05",
   "metadata": {},
   "outputs": [],
   "source": []
  },
  {
   "cell_type": "code",
   "execution_count": null,
   "id": "69b2ef95",
   "metadata": {},
   "outputs": [],
   "source": []
  },
  {
   "cell_type": "code",
   "execution_count": null,
   "id": "e0ed734c",
   "metadata": {},
   "outputs": [],
   "source": [
    " "
   ]
  }
 ],
 "metadata": {
  "kernelspec": {
   "display_name": "Python 3 (ipykernel)",
   "language": "python",
   "name": "python3"
  },
  "language_info": {
   "codemirror_mode": {
    "name": "ipython",
    "version": 3
   },
   "file_extension": ".py",
   "mimetype": "text/x-python",
   "name": "python",
   "nbconvert_exporter": "python",
   "pygments_lexer": "ipython3",
   "version": "3.9.13"
  }
 },
 "nbformat": 4,
 "nbformat_minor": 5
}
