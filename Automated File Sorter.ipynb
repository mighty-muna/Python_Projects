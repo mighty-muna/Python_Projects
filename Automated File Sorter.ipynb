{
 "cells": [
  {
   "cell_type": "code",
   "execution_count": 3,
   "id": "42c0abca",
   "metadata": {},
   "outputs": [],
   "source": [
    "import os, shutil"
   ]
  },
  {
   "cell_type": "code",
   "execution_count": 8,
   "id": "449dfb01",
   "metadata": {},
   "outputs": [],
   "source": [
    "path= r\"C:/Users/HP-PC/Documents/File sorter/\""
   ]
  },
  {
   "cell_type": "code",
   "execution_count": 10,
   "id": "3adeb8ce",
   "metadata": {},
   "outputs": [],
   "source": [
    "file_name= os.listdir(path)"
   ]
  },
  {
   "cell_type": "code",
   "execution_count": 9,
   "id": "54202be4",
   "metadata": {},
   "outputs": [
    {
     "name": "stdout",
     "output_type": "stream",
     "text": [
      "C:/Users/HP-PC/Documents/File sorter/xlsx files\n",
      "C:/Users/HP-PC/Documents/File sorter/png files\n",
      "C:/Users/HP-PC/Documents/File sorter/music files\n"
     ]
    }
   ],
   "source": [
    "folder_names = ['xlsx files','png files','music files']\n",
    "\n",
    "for loop in range(0,3):\n",
    "    if not os.path.exists(path + folder_names [loop]):\n",
    "        print(path + folder_names[loop])\n",
    "        os.makedirs(path + folder_names[loop])\n"
   ]
  },
  {
   "cell_type": "code",
   "execution_count": 16,
   "id": "90396b17",
   "metadata": {},
   "outputs": [],
   "source": [
    "for file in file_name:\n",
    "    if \".xlsx\" in file and not os.path.exists(path + \"xlsx files/\" +file):\n",
    "        shutil.move(path + file, path + \"xlsx files/\"+ file)\n",
    "    elif \".png\" in file and not os.path.exists(path + \"png files/\" +file):\n",
    "        shutil.move(path + file, path + \"png files/\"+ file)\n",
    "    elif \".mp3\" in file and not os.path.exists(path + \"music files/\" +file):\n",
    "        shutil.move(path + file, path + \"music files/\"+ file)\n",
    "\n",
    "    "
   ]
  },
  {
   "cell_type": "code",
   "execution_count": null,
   "id": "ef8d98bb",
   "metadata": {},
   "outputs": [],
   "source": []
  }
 ],
 "metadata": {
  "kernelspec": {
   "display_name": "Python 3 (ipykernel)",
   "language": "python",
   "name": "python3"
  },
  "language_info": {
   "codemirror_mode": {
    "name": "ipython",
    "version": 3
   },
   "file_extension": ".py",
   "mimetype": "text/x-python",
   "name": "python",
   "nbconvert_exporter": "python",
   "pygments_lexer": "ipython3",
   "version": "3.9.13"
  }
 },
 "nbformat": 4,
 "nbformat_minor": 5
}
